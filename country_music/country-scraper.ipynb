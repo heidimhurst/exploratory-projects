{
 "cells": [
  {
   "cell_type": "code",
   "execution_count": 12,
   "metadata": {
    "collapsed": true
   },
   "outputs": [],
   "source": [
    "# web scraping learning attempt\n",
    "\n",
    "from lxml import html\n",
    "import requests\n",
    "import string\n",
    "import datetime\n",
    "from collections import Counter"
   ]
  },
  {
   "cell_type": "code",
   "execution_count": 13,
   "metadata": {
    "collapsed": true
   },
   "outputs": [],
   "source": [
    "# specify dates for data collection, duration in weeks\n",
    "target_date = datetime.date.today()\n",
    "duration = 5*52;\n",
    "time_step = datetime.timedelta(weeks=1)\n",
    "\n",
    "def datestring(target_date):\n",
    "    # turns dates into formatted strings for urls\n",
    "    return str(target_date.year)+'_'+str(target_date.month)+'_'+str(target_date.day)\n"
   ]
  },
  {
   "cell_type": "code",
   "execution_count": 28,
   "metadata": {
    "collapsed": false
   },
   "outputs": [
    {
     "name": "stdout",
     "output_type": "stream",
     "text": [
      "['LANCO', 'Luke Combs', 'Sam Hunt', 'Luke Bryan', 'Thomas Rhett', 'Blake Shelton', 'Brett Young', 'Dustin Lynch', 'Eric Church', 'Russell Dickerson', 'Garth Brooks', 'Chris Young', 'Maren Morris', 'Walker Hayes', 'Chris Janson', 'Old Dominion', 'Devin Dawson', 'Kelsea Ballerini', 'Scotty McCreery', 'Chris Stapleton', 'Keith Urban', 'Easton Corbin', 'Miranda Lambert', 'Thomas Rhett', 'Aaron Watson', 'Kane Brown', 'Brett Eldredge', 'Granger Smith', 'Jordan Davis', 'Lee Brice', 'Midland', 'Florida Georgia Line', 'High Valley', 'Big and Rich', 'Kane Brown', 'Cole Swindell', 'Brantley Gilbert', 'Michael Ray', 'Darius Rucker', 'Chase Rice', 'Little Big Town', 'Dylan Scott', 'Taylor Swift']\n",
      "['Meant-To-Be', 'Greatest-Love-Story', 'What-Ifs', 'When-It-Rains-It-Pours', 'Body-Like-A-Back-Road', 'Light-It-Up', 'Unforgettable', \"I'll-Name-The-Dogs\", 'Like-I-Loved-You', 'Small-Town-Boy', 'Round-Here-Buzz', 'Yours', 'Ask-Me-How-I-Know', 'Losing-Sleep', 'I-Could-Use-A-Love-Song', 'You-Broke-Up-With-Me', 'Fix-A-Drink', 'Written-In-The-Sand', 'All-On-Me', 'Legends', 'Five-More-Minutes', 'Broken-Halos', 'Female', 'A-Girl-Like-You', 'Tin-Man', 'Marry-Me', 'Outta-Style', 'Heaven', 'The-Long-Way', 'Happens-Like-That', 'The-Rest-Of-Our-Life', 'Singles-You-Up', 'Boy', 'Make-A-Little', 'Smooth', \"She's-With-Me\", 'California', 'Found-You', 'Take-Back-Home-Girl', 'Up-Down', 'Stay-Downtown', 'Ones-That-Like-Me', 'Get-To-You', 'For-The-First-Time', 'Three-Chords-and-The-Truth', 'When-Someone-Stops-Loving-You', \"Everything's-Gonna-Be-Alright\", 'Hooked', 'The-Dance', \"New-Year's-Day\"]\n",
      "50\n"
     ]
    }
   ],
   "source": [
    "page = requests.get('http://www.billboard.com/charts/country-songs')#'http://www.billboard.com/charts/country-airplay')\n",
    "tree = html.fromstring(page.content)\n",
    "\n",
    "song_names = tree.xpath('//h2[@class=\"chart-row__song\"]/text()')\n",
    "artists = tree.xpath('//a[@class=\"chart-row__artist\"]/text()')\n",
    "\n",
    "# edit artist names\n",
    "artists = [x.strip() for x in artists]\n",
    "artists = [x.replace(\"&\",\"and\") for x in artists]\n",
    "print(artists)\n",
    "# artists = [x.translate(string.maketrans(\"\",\"\"), string.punctuation) for x in artists]\n",
    "artists = [\" \".join(x.split()) for x in artists]\n",
    "artists = [x.replace(\" \",\"-\") for x in artists]\n",
    "\n",
    "# edit song names\n",
    "song_names = [x.strip() for x in song_names]\n",
    "song_names = [x.replace(\"&\",\"and\") for x in song_names]\n",
    "# song_names = [x.translate(string.maketrans(\"\",\"\"), string.punctuation) for x in song_names]\n",
    "song_names = [\" \".join(x.split()) for x in song_names]\n",
    "song_names = [x.replace(\" \",\"-\") for x in song_names]\n",
    "\n",
    "#lyrics = [[]*len(song_names)]\n",
    "#print lyrics\n",
    "print(song_names)\n",
    "print (len(song_names))\n",
    "raw_lyrics = [];\n",
    "errors = 0;"
   ]
  },
  {
   "cell_type": "code",
   "execution_count": 39,
   "metadata": {
    "collapsed": false
   },
   "outputs": [
    {
     "name": "stdout",
     "output_type": "stream",
     "text": [
      "Greatest-Love-Story  by  LANCO\n",
      "https://genius.com/lanco-greatest-love-story-lyrics\n"
     ]
    },
    {
     "ename": "TypeError",
     "evalue": "expected string or bytes-like object",
     "output_type": "error",
     "traceback": [
      "\u001b[0;31m---------------------------------------------------------------------------\u001b[0m",
      "\u001b[0;31mTypeError\u001b[0m                                 Traceback (most recent call last)",
      "\u001b[0;32m<ipython-input-39-731b91a890be>\u001b[0m in \u001b[0;36m<module>\u001b[0;34m()\u001b[0m\n\u001b[1;32m     11\u001b[0m \u001b[0;31m#     print(tree)\u001b[0m\u001b[0;34m\u001b[0m\u001b[0;34m\u001b[0m\u001b[0m\n\u001b[1;32m     12\u001b[0m     \u001b[0mlyrics1\u001b[0m \u001b[0;34m=\u001b[0m \u001b[0mtree\u001b[0m\u001b[0;34m.\u001b[0m\u001b[0mxpath\u001b[0m\u001b[0;34m(\u001b[0m\u001b[0;34m'//div[@class=\"lyrics\"]'\u001b[0m\u001b[0;34m)\u001b[0m\u001b[0;34m\u001b[0m\u001b[0m\n\u001b[0;32m---> 13\u001b[0;31m     \u001b[0mlyrics\u001b[0m \u001b[0;34m=\u001b[0m \u001b[0;34m(\u001b[0m\u001b[0mhtml\u001b[0m\u001b[0;34m.\u001b[0m\u001b[0mfromstring\u001b[0m\u001b[0;34m(\u001b[0m\u001b[0mlyrics1\u001b[0m\u001b[0;34m)\u001b[0m\u001b[0;34m)\u001b[0m\u001b[0;34m.\u001b[0m\u001b[0mxpath\u001b[0m\u001b[0;34m(\u001b[0m\u001b[0;34m'//p/text()'\u001b[0m\u001b[0;34m)\u001b[0m\u001b[0;34m\u001b[0m\u001b[0m\n\u001b[0m\u001b[1;32m     14\u001b[0m     \u001b[0mprint\u001b[0m\u001b[0;34m(\u001b[0m\u001b[0mlyrics\u001b[0m\u001b[0;34m)\u001b[0m\u001b[0;34m\u001b[0m\u001b[0m\n\u001b[1;32m     15\u001b[0m \u001b[0;31m#     lyrics = [x.translate(string.maketrans(\"\",\"\"), string.punctuation) for x in lyrics]\u001b[0m\u001b[0;34m\u001b[0m\u001b[0;34m\u001b[0m\u001b[0m\n",
      "\u001b[0;32m/Users/heidihurst/anaconda/lib/python3.5/site-packages/lxml/html/__init__.py\u001b[0m in \u001b[0;36mfromstring\u001b[0;34m(html, base_url, parser, **kw)\u001b[0m\n\u001b[1;32m    864\u001b[0m         \u001b[0mis_full_html\u001b[0m \u001b[0;34m=\u001b[0m \u001b[0m_looks_like_full_html_bytes\u001b[0m\u001b[0;34m(\u001b[0m\u001b[0mhtml\u001b[0m\u001b[0;34m)\u001b[0m\u001b[0;34m\u001b[0m\u001b[0m\n\u001b[1;32m    865\u001b[0m     \u001b[0;32melse\u001b[0m\u001b[0;34m:\u001b[0m\u001b[0;34m\u001b[0m\u001b[0m\n\u001b[0;32m--> 866\u001b[0;31m         \u001b[0mis_full_html\u001b[0m \u001b[0;34m=\u001b[0m \u001b[0m_looks_like_full_html_unicode\u001b[0m\u001b[0;34m(\u001b[0m\u001b[0mhtml\u001b[0m\u001b[0;34m)\u001b[0m\u001b[0;34m\u001b[0m\u001b[0m\n\u001b[0m\u001b[1;32m    867\u001b[0m     \u001b[0mdoc\u001b[0m \u001b[0;34m=\u001b[0m \u001b[0mdocument_fromstring\u001b[0m\u001b[0;34m(\u001b[0m\u001b[0mhtml\u001b[0m\u001b[0;34m,\u001b[0m \u001b[0mparser\u001b[0m\u001b[0;34m=\u001b[0m\u001b[0mparser\u001b[0m\u001b[0;34m,\u001b[0m \u001b[0mbase_url\u001b[0m\u001b[0;34m=\u001b[0m\u001b[0mbase_url\u001b[0m\u001b[0;34m,\u001b[0m \u001b[0;34m**\u001b[0m\u001b[0mkw\u001b[0m\u001b[0;34m)\u001b[0m\u001b[0;34m\u001b[0m\u001b[0m\n\u001b[1;32m    868\u001b[0m     \u001b[0;32mif\u001b[0m \u001b[0mis_full_html\u001b[0m\u001b[0;34m:\u001b[0m\u001b[0;34m\u001b[0m\u001b[0m\n",
      "\u001b[0;31mTypeError\u001b[0m: expected string or bytes-like object"
     ]
    }
   ],
   "source": [
    "# for i in range(len(song_names)):\n",
    "for i in range(1):\n",
    "    print (song_names[i+1],' by ',artists[i])\n",
    "    #url = 'http://www.azlyrics.com/lyrics/'+artists[1]+'/'+song_names[1]+'.html'\n",
    "#     url = 'http://www.metrolyrics.com/'+song_names[i].lower()+'-lyrics-'+artists[i].lower()+'.html'\n",
    "    url = 'https://genius.com/' + artists[i].lower() + \"-\" + song_names[i+1].lower() + '-lyrics'\n",
    "    print(url)\n",
    "    page = requests.get(url)\n",
    "#     print(page.content)\n",
    "    tree = html.fromstring(page.content)\n",
    "#     print(tree)\n",
    "    lyrics1 = tree.xpath('//div[@class=\"lyrics\"]')\n",
    "    lyrics = (html.fromstring(lyrics1)).xpath('//p/text()')\n",
    "    print(lyrics)\n",
    "#     lyrics = [x.translate(string.maketrans(\"\",\"\"), string.punctuation) for x in lyrics]\n",
    "    lyrics = [x.replace(\"\\n\",\"\") for x in lyrics]\n",
    "    lyrics = [x.lower() for x in lyrics]\n",
    "    #print 'Attempt ',i,': ',lyrics\n",
    "    for line in lyrics:\n",
    "        words = line.split()\n",
    "        raw_lyrics = raw_lyrics+words\n",
    "    #print 'Raw lyrics: ',raw_lyrics\n",
    "    if not lyrics:\n",
    "        print (\"-----------------------Error finding lyrics for song \",i)\n",
    "        errors += 1"
   ]
  },
  {
   "cell_type": "code",
   "execution_count": null,
   "metadata": {
    "collapsed": true
   },
   "outputs": [],
   "source": [
    "#print 'end result',raw_lyrics\n",
    "print ('-------------------------------'*4)\n",
    "print ('Unprocessed Songs: ',errors)\n",
    "\n",
    "counts = Counter(raw_lyrics)\n",
    "#print counts\n",
    "\n",
    "print (\"-\"*500)\n",
    "\n",
    "# text_file = open(\"output.txt\",'w')\n",
    "# for word in raw_lyrics:\n",
    "#     text_file.write(\" %s\" %word)\n",
    "# text_file.close\n"
   ]
  }
 ],
 "metadata": {
  "anaconda-cloud": {},
  "kernelspec": {
   "display_name": "Python [default]",
   "language": "python",
   "name": "python3"
  },
  "language_info": {
   "codemirror_mode": {
    "name": "ipython",
    "version": 3
   },
   "file_extension": ".py",
   "mimetype": "text/x-python",
   "name": "python",
   "nbconvert_exporter": "python",
   "pygments_lexer": "ipython3",
   "version": "3.5.2"
  }
 },
 "nbformat": 4,
 "nbformat_minor": 2
}
